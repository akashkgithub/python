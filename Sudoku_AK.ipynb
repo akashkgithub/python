{
  "nbformat": 4,
  "nbformat_minor": 0,
  "metadata": {
    "colab": {
      "name": "Sudoku_AK.ipynb",
      "provenance": [],
      "collapsed_sections": []
    },
    "kernelspec": {
      "name": "python3",
      "display_name": "Python 3"
    },
    "language_info": {
      "name": "python"
    }
  },
  "cells": [
    {
      "cell_type": "code",
      "execution_count": null,
      "metadata": {
        "id": "TjO20GaHrlom"
      },
      "outputs": [],
      "source": [
        "# This program is defined to solve a given sudoku puzzle. \n",
        "#The assumed puzzle is found just above the solved puzzle.\n",
        "\n",
        "def sudoku(board): #main function\n",
        "    empty = locate_empty(board) #finding the empty boxes in sudoku puzzle\n",
        "    if not empty:\n",
        "        return True #condition to stop solving, goal achieved\n",
        "    else:\n",
        "        row, col = empty #else noting the position of the empty box\n",
        "\n",
        "    for i in range(1,10): #for values from 1 to 9\n",
        "        if verify(board, i, (row, col)):\n",
        "            board[row][col] = i\n",
        "\n",
        "            if sudoku(board):\n",
        "                return True\n",
        "\n",
        "            board[row][col] = 0\n",
        "\n",
        "    return False"
      ]
    },
    {
      "cell_type": "code",
      "source": [
        "def verify(board, num, pos):\n",
        "    # Check row\n",
        "    for i in range(len(board[0])):\n",
        "        if board[pos[0]][i] == num and pos[1] != i:\n",
        "            return False\n",
        "\n",
        "    # Check column\n",
        "    for i in range(len(board)):\n",
        "        if board[i][pos[1]] == num and pos[0] != i:\n",
        "            return False\n",
        "\n",
        "    # Check box\n",
        "    box_x = pos[1] // 3\n",
        "    box_y = pos[0] // 3\n",
        "\n",
        "    for i in range(box_y*3, box_y*3 + 3):\n",
        "        for j in range(box_x * 3, box_x*3 + 3):\n",
        "            if board[i][j] == num and (i,j) != pos:\n",
        "                return False\n",
        "\n",
        "    return True"
      ],
      "metadata": {
        "id": "PWWQWcdxr0hL"
      },
      "execution_count": null,
      "outputs": []
    },
    {
      "cell_type": "code",
      "source": [
        "def pattern_sudoku(board):\n",
        "    for i in range(len(board)):\n",
        "        if i % 3 == 0 and i != 0:\n",
        "            print(\"- - - - - - - - - - - - - \")\n",
        "\n",
        "        for j in range(len(board[0])):\n",
        "            if j % 3 == 0 and j != 0:\n",
        "                print(\" | \", end=\"\")\n",
        "\n",
        "            if j == 8:\n",
        "                print(board[i][j])\n",
        "            else:\n",
        "                print(str(board[i][j]) + \" \", end=\"\")\n"
      ],
      "metadata": {
        "id": "3Ec-J1PvsEKu"
      },
      "execution_count": null,
      "outputs": []
    },
    {
      "cell_type": "code",
      "source": [
        "def locate_empty(board):\n",
        "    for i in range(len(board)):\n",
        "        for j in range(len(board[0])):\n",
        "            if board[i][j] == 0:\n",
        "                return (i, j)  # row, col\n",
        "\n",
        "    return None"
      ],
      "metadata": {
        "id": "r6OIo9bFsNZD"
      },
      "execution_count": null,
      "outputs": []
    },
    {
      "cell_type": "code",
      "source": [
        "board = [\n",
        "        [7, 8, 0, 4, 0, 0, 1, 2, 0],\n",
        "        [6, 0, 0, 0, 7, 5, 0, 0, 9],\n",
        "        [0, 0, 0, 6, 0, 1, 0, 7, 8],\n",
        "        [0, 0, 7, 0, 4, 0, 2, 6, 0],\n",
        "        [0, 0, 1, 0, 5, 0, 9, 3, 0],\n",
        "        [9, 0, 4, 0, 6, 0, 0, 0, 5],\n",
        "        [0, 7, 0, 3, 0, 0, 0, 1, 2],\n",
        "        [1, 2, 0, 0, 0, 7, 4, 0, 0],\n",
        "        [0, 4, 9, 2, 0, 6, 0, 0, 7]\n",
        "    ]\n",
        "print (pattern_sudoku(board))"
      ],
      "metadata": {
        "colab": {
          "base_uri": "https://localhost:8080/"
        },
        "id": "TFTZBEUisfvs",
        "outputId": "b171ac31-ad9e-4c72-f6dc-12489abde645"
      },
      "execution_count": null,
      "outputs": [
        {
          "output_type": "stream",
          "name": "stdout",
          "text": [
            "7 8 0  | 4 0 0  | 1 2 0\n",
            "6 0 0  | 0 7 5  | 0 0 9\n",
            "0 0 0  | 6 0 1  | 0 7 8\n",
            "- - - - - - - - - - - - - \n",
            "0 0 7  | 0 4 0  | 2 6 0\n",
            "0 0 1  | 0 5 0  | 9 3 0\n",
            "9 0 4  | 0 6 0  | 0 0 5\n",
            "- - - - - - - - - - - - - \n",
            "0 7 0  | 3 0 0  | 0 1 2\n",
            "1 2 0  | 0 0 7  | 4 0 0\n",
            "0 4 9  | 2 0 6  | 0 0 7\n",
            "None\n"
          ]
        }
      ]
    },
    {
      "cell_type": "code",
      "source": [
        "sudoku(board) #solved\n",
        "print (pattern_sudoku(board))"
      ],
      "metadata": {
        "colab": {
          "base_uri": "https://localhost:8080/"
        },
        "id": "flVVlzh5s7h1",
        "outputId": "9e9dfd06-3ba8-469e-9bf2-f76cf84476d1"
      },
      "execution_count": null,
      "outputs": [
        {
          "output_type": "stream",
          "name": "stdout",
          "text": [
            "7 8 5  | 4 3 9  | 1 2 6\n",
            "6 1 2  | 8 7 5  | 3 4 9\n",
            "4 9 3  | 6 2 1  | 5 7 8\n",
            "- - - - - - - - - - - - - \n",
            "8 5 7  | 9 4 3  | 2 6 1\n",
            "2 6 1  | 7 5 8  | 9 3 4\n",
            "9 3 4  | 1 6 2  | 7 8 5\n",
            "- - - - - - - - - - - - - \n",
            "5 7 8  | 3 9 4  | 6 1 2\n",
            "1 2 6  | 5 8 7  | 4 9 3\n",
            "3 4 9  | 2 1 6  | 8 5 7\n",
            "None\n"
          ]
        }
      ]
    }
  ]
}